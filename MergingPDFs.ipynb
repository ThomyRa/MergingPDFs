{
 "metadata": {
  "language_info": {
   "codemirror_mode": {
    "name": "ipython",
    "version": 3
   },
   "file_extension": ".py",
   "mimetype": "text/x-python",
   "name": "python",
   "nbconvert_exporter": "python",
   "pygments_lexer": "ipython3",
   "version": "3.7.9-final"
  },
  "orig_nbformat": 2,
  "kernelspec": {
   "name": "python3",
   "display_name": "Python 3"
  }
 },
 "nbformat": 4,
 "nbformat_minor": 2,
 "cells": [
  {
   "cell_type": "code",
   "execution_count": 1,
   "metadata": {},
   "outputs": [],
   "source": [
    "import os, copy\n",
    "from PyPDF2 import PdfFileReader, PdfFileWriter\n",
    "\n",
    "def merge_pdfs(paths, output):\n",
    "    pdf_writer = PdfFileWriter()\n",
    "\n",
    "    for path in paths:\n",
    "        pdf_reader = PdfFileReader(path)\n",
    "        for page in range(pdf_reader.getNumPages()):\n",
    "            # Add each page to the writer object\n",
    "            pdf_writer.addPage(pdf_reader.getPage(page))\n",
    "\n",
    "    # Write out the merged PDF\n",
    "    with open(output, 'wb') as out:\n",
    "        pdf_writer.write(out)\n",
    "\n",
    "if __name__ == '__main__':\n",
    "    fileList = os.listdir(path=\"/home/thomy/PersonalProjects/workingWithPDFs/Test02/PDFsCartaMotivacion&HV/\")\n",
    "    for i in range(len(fileList)):\n",
    "        fileList[i] = \"/home/thomy/PersonalProjects/workingWithPDFs/Test02/PDFsCartaMotivacion&HV/\" + fileList[i]\n",
    "\n",
    "    paths = sorted(fileList)\n",
    "    merge_pdfs(paths, output=os.getcwd() + '/00Carta_Motivacion_y_HV_Thomas_Ramirez.pdf')"
   ]
  }
 ]
}